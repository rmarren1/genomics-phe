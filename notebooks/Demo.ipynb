{
 "cells": [
  {
   "cell_type": "markdown",
   "metadata": {},
   "source": [
    "### Fast Paillier\n",
    "\n",
    "#### Introduction to the Paillier Cryptosystem\n",
    "The Paillier cryptosystem is an probabilistic asymmetric algorithm for public key cryptography, designed in 1999 by Pascal Paillier. \n",
    "\n",
    "This cryptosystem has the important property that it is homomorphic in its addition operator. Explicitly, if $\\alpha$, $\\beta$, and $\\xi$ are scalars, $a$ and $b$ are two plaintexts, and $Enc(a)$, $Enc(b)$ are the encryption of $a$ and $b$ under the same public key, then $D(\\alpha E(a) + \\beta E(b) + \\xi) = \\alpha D(E(a)) + \\beta D(E(b)) + \\xi$ where $D$ is the decryption under the secret key. This means that operations of scalar multiplication, scalar addition, and element-wise addition in the ciphertext-space are preserved in the message-space after encryption.\n",
    "\n",
    "This means that an untrusted third party could perform a limited set of computations on the encrypted data without ever finding out what the data is. For example, Alice could generate a key pair $(p, s)$ and send Bob a list of numbers $X = [x_1, x_2, \\ldots, x_n]$ encrypted under her public key, $E_p(X) = [E_p(x_1), E_p(x_2), \\ldots, E_p(x_n)]$. She could then ask Bob to take the mean of these numbers and return the result $S = \\frac{1}{n} \\sum_{i = 1}^n E_p(x_i)$. Bob learned nothing about the $X$ from doing this, but given $S$, Alice could compute $D_s(S) = D_s(\\frac{1}{n}\\sum_{i=1}^nE_p(x_i)) = \\frac{1}{n}\\sum_{i=1}^nD_s(E_p(x_i)) = \\frac{1}{n}\\sum_{i=1}^n x_i$ and obtain the correct mean value."
   ]
  },
  {
   "cell_type": "markdown",
   "metadata": {},
   "source": [
    "#### Vector Operations with Paillier\n",
    "Suppose $x \\in \\mathbb{Z}^D$ is a $D$-dimensional vector. We can extend the Paillier cryptosystem to do some structure preserving operations on vectors.\n",
    "\n",
    "Suppose again Alice has a key pair $(p, s)$. If $\\vec{x} = [x_1, x_2, \\ldots, x_D]^T$, we can define $E_p(\\vec{x}) = [E_p(x_1), E_p(x_2), \\ldots, E_p(x_D)]^T$. With this definition, we can perform similar operations to those described in the indroduction on vectors instead of values in $\\mathbb{R}$. For example, if $X = \\big( \\, \\vec{x_1} \\big| \\vec{x_2} \\big| \\ldots \\big| \\vec{x_n} \\, \\big)$ is a matrix in $\\mathbb{R}^{D \\times n}$, Alice can encrypt this entire matrix by encrypting each vector individually. Then Alice can send the encrypted matrix $E_p(X) = \\big( \\, E_p(\\vec{x_1}) \\big| E_p(\\vec{x_2}) \\big| \\ldots \\big| E_p(\\vec{x_n}) \\, \\big)$ to Bob and have him compute the row-wise mean $E_p(\\vec{\\mu}) = \\frac{1}{n}\\sum_{i = 1}^n E_p(\\vec{x}_i)$. Finally, Alice can decrypt $D_s(E_p(\\vec{\\mu})) = \\vec{\\mu}$ to get the result."
   ]
  },
  {
   "cell_type": "markdown",
   "metadata": {},
   "source": [
    "#### Inefficiencies with Small Messages\n",
    "The encryption operation $E_p(m)$ in the Paillier cryptosystem is explicitely $E_p(m) = g^m r^n \\mod n^2$ where $g \\in \\mathbb{Z}_{n^2}^*$ and $r \\in \\mathbb{Z}$ is a random number.\n",
    "\n",
    "Since the secret key $s$ is easy to compute with the factorization of $N = pq$, like in RSA, we must choose large moduli (e.g. N = 2048 bits) to avoid brute force factoring attacks. But according to the original paper, the Paillier cryptosystem is safe to use with plaintexts $m \\in \\mathbb{Z}^{\\frac{N}{3} - 1}$. This leads to major inefficiencies in some specific use cases. Here is an example of the problem:\n",
    "\n",
    "Suppose Alice now has a matrix $M \\in \\{0, 1\\}^{\\{D, n\\}}$ where $D >> n$ and $n << N$. This is a common setting in Genomic studies, where $D \\approx 28e6$, $n \\approx 100$, and $M_{i, j} = 1$ if subject $j$ has mutation $i$, else $0$.\n",
    "\n",
    "If Alice wants to now find the the row sum of her data (the count of each mutation in the entire cohort of $n$ subjects), she will need to perform the expensive encryption operation on every entry in the matrix $M$ even though she only required $N$ to avoid brute force attacks and is not at all taking advantage of the fact that the encryption scheme works for values in $m \\in \\mathbb{Z}^{\\frac{N}{3} - 1}$ (since the highest possible value she can have in her result is $100$).\n",
    "\n",
    "Empirically, we can see the this is a large slow down."
   ]
  },
  {
   "cell_type": "code",
   "execution_count": 1,
   "metadata": {},
   "outputs": [
    {
     "name": "stdout",
     "output_type": "stream",
     "text": [
      "(D, n) = (128, 4)\n"
     ]
    }
   ],
   "source": [
    "from phe import paillier\n",
    "import numpy as np\n",
    "import sys\n",
    "sys.path.append('..')\n",
    "import gphe.vecphe as vphe\n",
    "p, s = paillier.generate_paillier_keypair()\n",
    "D, n = (128, 4)\n",
    "M = np.random.binomial(1, .5, (D, n))\n",
    "print(\"(D, n) =\", (D, n))"
   ]
  },
  {
   "cell_type": "code",
   "execution_count": 2,
   "metadata": {},
   "outputs": [
    {
     "name": "stdout",
     "output_type": "stream",
     "text": [
      "CPU times: user 30.6 s, sys: 28 ms, total: 30.6 s\n",
      "Wall time: 30.9 s\n"
     ]
    }
   ],
   "source": [
    "%%time\n",
    "E_Mslow = vphe.matEnc(p, M)"
   ]
  },
  {
   "cell_type": "code",
   "execution_count": 3,
   "metadata": {},
   "outputs": [
    {
     "name": "stdout",
     "output_type": "stream",
     "text": [
      "\u001b[0m\u001b[1;31m                          ./+o+-       \u001b[0m\u001b[1;31mryan\u001b[0m\u001b[1m@\u001b[0m\u001b[0m\u001b[1;31mgalliumos\u001b[0m\n",
      "\u001b[0m\u001b[1;37m                  yyyyy- \u001b[0m\u001b[1;31m-yyyyyy+     \u001b[0m\u001b[1;31m OS:\u001b[0m Ubuntu 16.04 xenial\u001b[0m\n",
      "\u001b[0m\u001b[1;37m               \u001b[0m\u001b[1;37m://+//////\u001b[0m\u001b[1;31m-yyyyyyo     \u001b[0m\u001b[1;31m Kernel:\u001b[0m x86_64 Linux 4.9.4-galliumos-braswell\u001b[0m\n",
      "\u001b[0m\u001b[1;33m           .++ \u001b[0m\u001b[1;37m.:/++++++/-\u001b[0m\u001b[1;31m.+sss/`     \u001b[0m\u001b[1;31m Uptime:\u001b[0m 3h 48m\u001b[0m\n",
      "\u001b[0m\u001b[1;33m         .:++o:  \u001b[0m\u001b[1;37m/++++++++/:--:/-     \u001b[0m\u001b[1;31m Packages:\u001b[0m 1830\u001b[0m\n",
      "\u001b[0m\u001b[1;33m        o:+o+:++.\u001b[0m\u001b[1;37m`..```.-/oo+++++/    \u001b[0m\u001b[1;31m Shell:\u001b[0m bash 4.3.48\u001b[0m\n",
      "\u001b[0m\u001b[1;33m       .:+o:+o/.\u001b[0m\u001b[1;37m          `+sssoo+/   \u001b[0m\u001b[1;31m Resolution:\u001b[0m 1920x1080\u001b[0m\n",
      "\u001b[0m\u001b[1;37m  .++/+:\u001b[0m\u001b[1;33m+oo+o:`\u001b[0m\u001b[1;37m             /sssooo.  \u001b[0m\u001b[1;31m DE:\u001b[0m XFCE\u001b[0m\n",
      "\u001b[0m\u001b[1;37m /+++//+:\u001b[0m\u001b[1;33m`oo+o\u001b[0m\u001b[1;37m               /::--:.  \u001b[0m\u001b[1;31m WM:\u001b[0m Xfwm4\u001b[0m\n",
      "\u001b[0m\u001b[1;37m \\+/+o+++\u001b[0m\u001b[1;33m`o++o\u001b[0m\u001b[1;31m               ++////.  \u001b[0m\u001b[1;31m WM Theme:\u001b[0m Arc-Darker-GalliumOS\u001b[0m\n",
      "\u001b[0m\u001b[1;37m  .++.o+\u001b[0m\u001b[1;33m++oo+:`\u001b[0m\u001b[1;31m             /dddhhh.  \u001b[0m\u001b[1;31m GTK Theme:\u001b[0m Arc-GalliumOS [GTK2]\u001b[0m\n",
      "\u001b[0m\u001b[1;33m       .+.o+oo:.\u001b[0m\u001b[1;31m          `oddhhhh+   \u001b[0m\u001b[1;31m Icon Theme:\u001b[0m Numix-Circle-GalliumOS\u001b[0m\n",
      "\u001b[0m\u001b[1;33m        \\+.++o+o`\u001b[0m\u001b[1;31m`-````.:ohdhhhhh+    \u001b[0m\u001b[1;31m Font:\u001b[0m Roboto 10\u001b[0m\n",
      "\u001b[0m\u001b[1;33m         `:o+++ \u001b[0m\u001b[1;31m`ohhhhhhhhyo++os:     \u001b[0m\u001b[1;31m CPU:\u001b[0m Intel Celeron CPU N3160 @ 1.601GHz\u001b[0m\n",
      "\u001b[0m\u001b[1;33m           .o:\u001b[0m\u001b[1;31m`.syhhhhhhh/\u001b[0m\u001b[1;33m.oo++o`     \u001b[0m\u001b[1;31m RAM:\u001b[0m 1747MiB / 3900MiB\u001b[0m\n",
      "\u001b[0m\u001b[1;31m               /osyyyyyyo\u001b[0m\u001b[1;33m++ooo+++/    \u001b[0m\n",
      "\u001b[0m\u001b[1;31m                   ````` \u001b[0m\u001b[1;33m+oo+++o\\:    \u001b[0m\n",
      "\u001b[0m\u001b[1;33m                          `oo++.      \u001b[0m\n"
     ]
    }
   ],
   "source": [
    "%%bash\n",
    "screenfetch"
   ]
  },
  {
   "cell_type": "markdown",
   "metadata": {},
   "source": [
    "As you can see, the process of encrypting such a matrix where $D = 128$ and $n = 4$ (which is very small) takes 30 seconds. Even on better hardware (as you can see, we are not working with a powerhouse here), it is unlikely that a larger genomic study where $D$ is in the millions and $n$ is in the hundreds is going to finish any time soon."
   ]
  },
  {
   "cell_type": "markdown",
   "metadata": {},
   "source": [
    "#### Speeding Things Up\n",
    "The reason this experiment went so poorly is because our data structure was not taking advantage of the large amount of numbers encrypted values could take on. We fix this as follows:\n",
    "\n",
    "Consider the mapping $$f_{b, l}: \\{0, 1\\}^{\\{D, n\\}} \\rightarrow \\mathbb{Z}^{\\{d, n\\}}$$ parameterized by a base size variable $b$ and a block length variable $l$. We define $$g_{b}: \\{0, 1\\}^l \\rightarrow \\mathbb{Z}_b, \\,\\, g(\\vec{x}) = \\sum_{i = 0}^{l - 1} x_{i + 1} b^i$$  and $$z_{b, l}: \\{0, 1\\}^{l, n} \\rightarrow \\mathbb{Z}_b^n, \\,\\, z_b(M, i) = [g_{b}(M[i:i+l, 1]), g_{b}(M[i:i+l, 1]), \\ldots, g_{b}(M[i:i+l, n])]$$.\n",
    "\n",
    "We take $$f_{b, l}(M) = \\bigg(z_{b, l}(M, 0)^T, z_{b, l}(M, l)^T, \\ldots, z_{b, l}(M, \\frac{n}{l})^T  \\bigg)^T$$\n",
    "\n",
    "The point here is that $f$ is an isomorphism since $g$ is invertible, but $d << D$.\n",
    "\n",
    "We test this experiment with:\n",
    "* $b = 128$\n",
    "* $l = 128$\n",
    "* $D = 128$\n",
    "* $n = 4$\n",
    "* $d = 4$"
   ]
  },
  {
   "cell_type": "code",
   "execution_count": 4,
   "metadata": {},
   "outputs": [
    {
     "name": "stdout",
     "output_type": "stream",
     "text": [
      "CPU times: user 1.13 s, sys: 29 ms, total: 1.15 s\n",
      "Wall time: 1.21 s\n"
     ]
    }
   ],
   "source": [
    "%%time\n",
    "E_Mfast = vphe.fmatEnc(p, M)"
   ]
  },
  {
   "cell_type": "markdown",
   "metadata": {},
   "source": [
    "As we can see, this new encryption scheme ran much faster at at over a 1000x speedup. Decryption time is also improved with this scheme, as we can see below."
   ]
  },
  {
   "cell_type": "code",
   "execution_count": 5,
   "metadata": {},
   "outputs": [
    {
     "name": "stdout",
     "output_type": "stream",
     "text": [
      "CPU times: user 8.76 s, sys: 12 ms, total: 8.77 s\n",
      "Wall time: 8.95 s\n"
     ]
    }
   ],
   "source": [
    "%%time\n",
    "Mslow = vphe.matDec(s, E_Mslow)"
   ]
  },
  {
   "cell_type": "code",
   "execution_count": 6,
   "metadata": {},
   "outputs": [
    {
     "name": "stdout",
     "output_type": "stream",
     "text": [
      "CPU times: user 82 ms, sys: 1 ms, total: 83 ms\n",
      "Wall time: 89.8 ms\n"
     ]
    }
   ],
   "source": [
    "%%time\n",
    "Mfast = vphe.fmatDec(s, E_Mfast)"
   ]
  },
  {
   "cell_type": "markdown",
   "metadata": {},
   "source": [
    "We see a similar speedup of around 1000x. Now we check to see if the decrypted matrices are actually the same."
   ]
  },
  {
   "cell_type": "code",
   "execution_count": 7,
   "metadata": {},
   "outputs": [],
   "source": [
    "assert all( Mslow.flatten() == Mfast.flatten())"
   ]
  },
  {
   "cell_type": "markdown",
   "metadata": {},
   "source": [
    "Now we run several tests to see how the Encryption plus Decryption times very as a function of the number of points in the matrix for the Fast and Slow schemes. We plot the results below."
   ]
  },
  {
   "cell_type": "code",
   "execution_count": 8,
   "metadata": {},
   "outputs": [],
   "source": [
    "import time\n",
    "Ds = [2**x for x in range(1, 6)]\n",
    "ns = [10 * x for x in range(1, 6)]\n",
    "slowtimes = []\n",
    "fasttimes = []\n",
    "numpoints = []\n",
    "for D, n in zip(Ds, ns):\n",
    "    numpoints.append(D * n)\n",
    "    M = np.random.binomial(1, .5, (D, n))\n",
    "    \n",
    "    start = time.time()\n",
    "    E_Mslow = vphe.matEnc(p, M)\n",
    "    Mslow = vphe.matDec(s, E_Mslow)\n",
    "    end = time.time()\n",
    "    slowtimes.append(end - start)\n",
    "    \n",
    "    start = time.time()\n",
    "    E_Mfast = vphe.fmatEnc(p, M)\n",
    "    Mfast = vphe.fmatDec(s, E_Mfast)\n",
    "    end = time.time()\n",
    "    fasttimes.append(end - start)"
   ]
  },
  {
   "cell_type": "code",
   "execution_count": 9,
   "metadata": {},
   "outputs": [
    {
     "data": {
      "image/png": "[encoded data removed]",
      "text/plain": [
       "<matplotlib.figure.Figure at 0x7fd24a5f17f0>"
      ]
     },
     "metadata": {},
     "output_type": "display_data"
    }
   ],
   "source": [
    "import seaborn as sns\n",
    "import matplotlib.pyplot as plt\n",
    "plt.scatter(numpoints, slowtimes, label=\"Pallier\")\n",
    "plt.scatter(numpoints, fasttimes, label=\"fastPaillier\")\n",
    "plt.xlabel(\"Number of Points in Matrix\")\n",
    "plt.ylabel(\"Time Taken to Enc then Dec in Seconds\")\n",
    "plt.xscale(\"log\")\n",
    "plt.title(\"Pallier Enc+Dec vs. fastPallier Enc+Dec\")\n",
    "plt.legend()\n",
    "plt.show()"
   ]
  },
  {
   "cell_type": "markdown",
   "metadata": {},
   "source": [
    "We see that the fastPaillier schemes is performing much better than the normal Paillier scheme. We continue the fastPaillier plot since it is not prohibatively long, and see the general trend of the fast scheme."
   ]
  },
  {
   "cell_type": "code",
   "execution_count": 10,
   "metadata": {},
   "outputs": [],
   "source": [
    "Ds = [2**x for x in range(6, 12)]\n",
    "ns = [10 * x for x in range(6, 12)]\n",
    "for D, n in zip(Ds, ns):\n",
    "    numpoints.append(D * n)\n",
    "    M = np.random.binomial(1, .5, (D, n))\n",
    "    \n",
    "    start = time.time()\n",
    "    E_Mfast = vphe.fmatEnc(p, M)\n",
    "    Mfast = vphe.fmatDec(s, E_Mfast)\n",
    "    end = time.time()\n",
    "    fasttimes.append(end - start)"
   ]
  },
  {
   "cell_type": "code",
   "execution_count": 11,
   "metadata": {},
   "outputs": [
    {
     "data": {
      "image/png": "[encoded data removed]",
      "text/plain": [
       "<matplotlib.figure.Figure at 0x7fd23b967da0>"
      ]
     },
     "metadata": {},
     "output_type": "display_data"
    }
   ],
   "source": [
    "plt.scatter(numpoints, fasttimes, label=\"fastPaillier\")\n",
    "plt.xlabel(\"Number of Points in Matrix\")\n",
    "plt.ylabel(\"Time Taken to Enc then Dec in Seconds\")\n",
    "plt.xscale(\"log\")\n",
    "plt.title(\"fastPallier Enc+Dec Time Taken\")\n",
    "plt.legend()\n",
    "plt.show()"
   ]
  },
  {
   "cell_type": "code",
   "execution_count": null,
   "metadata": {},
   "outputs": [],
   "source": []
  }
 ],
 "metadata": {
  "celltoolbar": "Raw Cell Format",
  "kernelspec": {
   "display_name": "Python 3",
   "language": "python",
   "name": "python3"
  },
  "language_info": {
   "codemirror_mode": {
    "name": "ipython",
    "version": 3
   },
   "file_extension": ".py",
   "mimetype": "text/x-python",
   "name": "python",
   "nbconvert_exporter": "python",
   "pygments_lexer": "ipython3",
   "version": "3.5.2"
  }
 },
 "nbformat": 4,
 "nbformat_minor": 2
}
