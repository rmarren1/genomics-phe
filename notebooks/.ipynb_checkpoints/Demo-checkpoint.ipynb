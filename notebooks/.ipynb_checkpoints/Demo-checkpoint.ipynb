{
 "cells": [
  {
   "cell_type": "markdown",
   "metadata": {},
   "source": [
    "### Fast Paillier\n",
    "\n",
    "#### Introduction to the Paillier Cryptosystem\n",
    "The Paillier cryptosystem is an probabilistic asymmetric algorithm for public key cryptography, designed in 1999 by Pascal Paillier. \n",
    "\n",
    "This cryptosystem has the important property that it is homomorphic in its addition operator. Explicitly, if $\\alpha$, $\\beta$, and $\\xi$ are scalars, $a$ and $b$ are two plaintexts, and $Enc(a)$, $Enc(b)$ are the encryption of $a$ and $b$ under the same public key, then $D(\\alpha E(a) + \\beta E(b) + \\xi) = \\alpha D(E(a)) + \\beta D(E(b)) + \\xi$ where $D$ is the decryption under the secret key. This means that operations of scalar multiplication, scalar addition, and element-wise addition in the ciphertext-space are preserved in the message-space after encryption.\n",
    "\n",
    "This means that an untrusted third party could perform a limited set of computations on the encrypted data without ever finding out what the data is. For example, Alice could generate a key pair $(p, s)$ and send Bob a list of numbers $X = [x_1, x_2, \\ldots, x_n]$ encrypted under her public key, $E_p(X) = [E_p(x_1), E_p(x_2), \\ldots, E_p(x_n)]$. She could then ask Bob to take the mean of these numbers and return the result $S = \\frac{1}{n} \\sum_{i = 1}^n E_p(x_i)$. Bob learned nothing about the $X$ from doing this, but given $S$, Alice could compute $D_s(S) = D_s(\\frac{1}{n}\\sum_{i=1}^nE_p(x_i)) = \\frac{1}{n}\\sum_{i=1}^nD_s(E_p(x_i)) = \\frac{1}{n}\\sum_{i=1}^n x_i$ and obtain the correct mean value."
   ]
  },
  {
   "cell_type": "markdown",
   "metadata": {},
   "source": [
    "#### Vector Operations with Paillier\n",
    "Suppose $x \\in \\mathbb{Z}^D$ is a $D$-dimensional vector. We can extend the Paillier cryptosystem to do some structure preserving operations on vectors.\n",
    "\n",
    "Suppose again Alice has a key pair $(p, s)$. If $\\vec{x} = [x_1, x_2, \\ldots, x_D]^T$, we can define $E_p(\\vec{x}) = [E_p(x_1), E_p(x_2), \\ldots, E_p(x_D)]^T$. With this definition, we can perform similar operations to those described in the indroduction on vectors instead of values in $\\mathbb{R}$. For example, if $X = \\big( \\, \\vec{x_1} \\big| \\vec{x_2} \\big| \\ldots \\big| \\vec{x_n} \\, \\big)$ is a matrix in $\\mathbb{R}^{D \\times n}$, Alice can encrypt this entire matrix by encrypting each vector individually. Then Alice can send the encrypted matrix $E_p(X) = \\big( \\, E_p(\\vec{x_1}) \\big| E_p(\\vec{x_2}) \\big| \\ldots \\big| E_p(\\vec{x_n}) \\, \\big)$ to Bob and have him compute the row-wise mean $E_p(\\vec{\\mu}) = \\frac{1}{n}\\sum_{i = 1}^n E_p(\\vec{x}_i)$. Finally, Alice can decrypt $D_s(E_p(\\vec{\\mu})) = \\vec{\\mu}$ to get the result."
   ]
  },
  {
   "cell_type": "markdown",
   "metadata": {},
   "source": [
    "#### Inefficiencies with Small Messages\n",
    "The encryption operation $E_p(m)$ in the Paillier cryptosystem is explicitely $E_p(m) = g^m r^n \\mod n^2$ where $g \\in \\mathbb{Z}_{n^2}^*$ and $r \\in \\mathbb{Z}$ is a random number.\n",
    "\n",
    "Since the secret key $s$ is easy to compute with the factorization of $N = pq$, like in RSA, we must choose large moduli (e.g. N = 2048 bits) to avoid brute force factoring attacks. But according to the original paper, the Paillier cryptosystem is safe to use with plaintexts $m \\in \\mathbb{Z}^{\\frac{N}{3} - 1}$. This leads to major inefficiencies in some specific use cases. Here is an example of the problem:\n",
    "\n",
    "Suppose Alice now has a matrix $M \\in \\{0, 1\\}^{\\{D, n\\}}$ where $D >> n$ and $n << N$. This is a common setting in Genomic studies, where $D \\approx 28e6$, $n \\approx 100$, and $M_{i, j} = 1$ if subject $j$ has mutation $i$, else $0$.\n",
    "\n",
    "If Alice wants to now find the the row sum of her data (the count of each mutation in the entire cohort of $n$ subjects), she will need to perform the expensive encryption operation on every entry in the matrix $M$ even though she only required $N$ to avoid brute force attacks and is not at all taking advantage of the fact that the encryption scheme works for values in $m \\in \\mathbb{Z}^{\\frac{N}{3} - 1}$ (since the highest possible value she can have in her result is $100$).\n",
    "\n",
    "Empirically, we can see the this is a large slow down."
   ]
  },
  {
   "cell_type": "code",
   "execution_count": 1,
   "metadata": {},
   "outputs": [
    {
     "name": "stdout",
     "output_type": "stream",
     "text": [
      "(D, n) = (128, 4)\n"
     ]
    }
   ],
   "source": [
    "from phe import paillier\n",
    "import numpy as np\n",
    "import sys\n",
    "sys.path.append('..')\n",
    "import gphe.vecphe as vphe\n",
    "p, s = paillier.generate_paillier_keypair()\n",
    "D, n = (128, 4)\n",
    "M = np.random.binomial(1, .5, (D, n)).tolist()\n",
    "print(\"(D, n) =\", (D, n))"
   ]
  },
  {
   "cell_type": "code",
   "execution_count": 19,
   "metadata": {},
   "outputs": [
    {
     "name": "stdout",
     "output_type": "stream",
     "text": [
      "CPU times: user 30.7 s, sys: 15 ms, total: 30.7 s\n",
      "Wall time: 30.8 s\n"
     ]
    }
   ],
   "source": [
    "%%time\n",
    "E_M = [vphe.vecEnc(p, V) for V in M.T.tolist()]"
   ]
  },
  {
   "cell_type": "code",
   "execution_count": 28,
   "metadata": {},
   "outputs": [
    {
     "name": "stdout",
     "output_type": "stream",
     "text": [
      "\u001b[0m\u001b[1;31m                          ./+o+-       \u001b[0m\u001b[1;31mryan\u001b[0m\u001b[1m@\u001b[0m\u001b[0m\u001b[1;31mgalliumos\u001b[0m\n",
      "\u001b[0m\u001b[1;37m                  yyyyy- \u001b[0m\u001b[1;31m-yyyyyy+     \u001b[0m\u001b[1;31m OS:\u001b[0m Ubuntu 16.04 xenial\u001b[0m\n",
      "\u001b[0m\u001b[1;37m               \u001b[0m\u001b[1;37m://+//////\u001b[0m\u001b[1;31m-yyyyyyo     \u001b[0m\u001b[1;31m Kernel:\u001b[0m x86_64 Linux 4.9.4-galliumos-braswell\u001b[0m\n",
      "\u001b[0m\u001b[1;33m           .++ \u001b[0m\u001b[1;37m.:/++++++/-\u001b[0m\u001b[1;31m.+sss/`     \u001b[0m\u001b[1;31m Uptime:\u001b[0m 7h 13m\u001b[0m\n",
      "\u001b[0m\u001b[1;33m         .:++o:  \u001b[0m\u001b[1;37m/++++++++/:--:/-     \u001b[0m\u001b[1;31m Packages:\u001b[0m 1788\u001b[0m\n",
      "\u001b[0m\u001b[1;33m        o:+o+:++.\u001b[0m\u001b[1;37m`..```.-/oo+++++/    \u001b[0m\u001b[1;31m Shell:\u001b[0m bash 4.3.48\u001b[0m\n",
      "\u001b[0m\u001b[1;33m       .:+o:+o/.\u001b[0m\u001b[1;37m          `+sssoo+/   \u001b[0m\u001b[1;31m Resolution:\u001b[0m 1920x1080\u001b[0m\n",
      "\u001b[0m\u001b[1;37m  .++/+:\u001b[0m\u001b[1;33m+oo+o:`\u001b[0m\u001b[1;37m             /sssooo.  \u001b[0m\u001b[1;31m DE:\u001b[0m XFCE\u001b[0m\n",
      "\u001b[0m\u001b[1;37m /+++//+:\u001b[0m\u001b[1;33m`oo+o\u001b[0m\u001b[1;37m               /::--:.  \u001b[0m\u001b[1;31m WM:\u001b[0m Xfwm4\u001b[0m\n",
      "\u001b[0m\u001b[1;37m \\+/+o+++\u001b[0m\u001b[1;33m`o++o\u001b[0m\u001b[1;31m               ++////.  \u001b[0m\u001b[1;31m WM Theme:\u001b[0m Arc-Darker-GalliumOS\u001b[0m\n",
      "\u001b[0m\u001b[1;37m  .++.o+\u001b[0m\u001b[1;33m++oo+:`\u001b[0m\u001b[1;31m             /dddhhh.  \u001b[0m\u001b[1;31m GTK Theme:\u001b[0m Arc-GalliumOS [GTK2]\u001b[0m\n",
      "\u001b[0m\u001b[1;33m       .+.o+oo:.\u001b[0m\u001b[1;31m          `oddhhhh+   \u001b[0m\u001b[1;31m Icon Theme:\u001b[0m Numix-Circle-GalliumOS\u001b[0m\n",
      "\u001b[0m\u001b[1;33m        \\+.++o+o`\u001b[0m\u001b[1;31m`-````.:ohdhhhhh+    \u001b[0m\u001b[1;31m Font:\u001b[0m Roboto 10\u001b[0m\n",
      "\u001b[0m\u001b[1;33m         `:o+++ \u001b[0m\u001b[1;31m`ohhhhhhhhyo++os:     \u001b[0m\u001b[1;31m CPU:\u001b[0m Intel Celeron CPU N3160 @ 1.601GHz\u001b[0m\n",
      "\u001b[0m\u001b[1;33m           .o:\u001b[0m\u001b[1;31m`.syhhhhhhh/\u001b[0m\u001b[1;33m.oo++o`     \u001b[0m\u001b[1;31m RAM:\u001b[0m 3105MiB / 3900MiB\u001b[0m\n",
      "\u001b[0m\u001b[1;31m               /osyyyyyyo\u001b[0m\u001b[1;33m++ooo+++/    \u001b[0m\n",
      "\u001b[0m\u001b[1;31m                   ````` \u001b[0m\u001b[1;33m+oo+++o\\:    \u001b[0m\n",
      "\u001b[0m\u001b[1;33m                          `oo++.      \u001b[0m\n"
     ]
    }
   ],
   "source": [
    "%%bash\n",
    "screenfetch"
   ]
  },
  {
   "cell_type": "markdown",
   "metadata": {},
   "source": [
    "As you can see, the process of encrypting such a matrix where $D = 200$ and $n = 10$ (which is very small) takes 2 full minutes. Even on better hardware (as you can see, we are not working with a powerhouse here), it is unlikely that a larger genomic study where $D$ is in the millions and $n$ is in the hundreds is going to finish any time soon."
   ]
  },
  {
   "cell_type": "markdown",
   "metadata": {},
   "source": [
    "#### Speeding Things Up\n",
    "The reason this experiment went so poorly is because our data structure was not taking advantage of the large amount of numbers encrypted values could take on. We fix this as follows:\n",
    "\n",
    "Consider the mapping $$f_{b, l}: \\{0, 1\\}^{\\{D, n\\}} \\rightarrow \\mathbb{Z}^{\\{d, n\\}}$$ parameterized by a base size variable $b$ and a block length variable $l$. We define $$g_{b}: \\{0, 1\\}^l \\rightarrow \\mathbb{Z}_b, \\,\\, g(\\vec{x}) = \\sum_{i = 0}^{l - 1} x_{i + 1} b^i$$  and $$z_{b, l}: \\{0, 1\\}^{l, n} \\rightarrow \\mathbb{Z}_b^n, \\,\\, z_b(M, i) = [g_{b}(M[i:i+l, 1]), g_{b}(M[i:i+l, 1]), \\ldots, g_{b}(M[i:i+l, n])]$$.\n",
    "\n",
    "We take $$f_{b, l}(M) = \\bigg(z_{b, l}(M, 0)^T, z_{b, l}(M, l)^T, \\ldots, z_{b, l}(M, \\frac{n}{l})^T  \\bigg)^T$$\n",
    "\n",
    "The point here is that $f$ is an isomorphism since $g$ is invertible, but $d << D$.\n",
    "\n",
    "We test this experiment with:\n",
    "* $b = 256$\n",
    "* $l = 64$\n",
    "* $D = 128$\n",
    "* $n = 4$\n",
    "* $d = 4$"
   ]
  },
  {
   "cell_type": "code",
   "execution_count": 25,
   "metadata": {},
   "outputs": [
    {
     "name": "stdout",
     "output_type": "stream",
     "text": [
      "(D, n) = (128, 4)\n"
     ]
    }
   ],
   "source": [
    "D, n = (128, 4)\n",
    "M = np.random.binomial(1, .5, (D, n))\n",
    "print(\"(D, n) =\", (D, n))"
   ]
  },
  {
   "cell_type": "code",
   "execution_count": 30,
   "metadata": {},
   "outputs": [
    {
     "name": "stdout",
     "output_type": "stream",
     "text": [
      "CPU times: user 256 ms, sys: 1 ms, total: 257 ms\n",
      "Wall time: 259 ms\n"
     ]
    }
   ],
   "source": [
    "%%time\n",
    "E_M = [vphe.fvecEnc(p, V, base=128, block=128) for V in M.T.tolist()]"
   ]
  },
  {
   "cell_type": "code",
   "execution_count": 7,
   "metadata": {},
   "outputs": [],
   "source": [
    "from phe import paillier\n",
    "import numpy as np"
   ]
  },
  {
   "cell_type": "code",
   "execution_count": 8,
   "metadata": {},
   "outputs": [],
   "source": [
    "p, s = paillier.generate_paillier_keypair()"
   ]
  },
  {
   "cell_type": "code",
   "execution_count": 9,
   "metadata": {},
   "outputs": [],
   "source": [
    "V = [int(x) for x in np.random.binomial(1, .5, 1000)]"
   ]
  },
  {
   "cell_type": "code",
   "execution_count": 10,
   "metadata": {},
   "outputs": [
    {
     "name": "stdout",
     "output_type": "stream",
     "text": [
      "CPU times: user 59.9 s, sys: 40 ms, total: 59.9 s\n",
      "Wall time: 1min\n"
     ]
    }
   ],
   "source": [
    "%%time\n",
    "EV = vphe.vecEnc(p, V)"
   ]
  },
  {
   "cell_type": "code",
   "execution_count": 11,
   "metadata": {},
   "outputs": [
    {
     "name": "stdout",
     "output_type": "stream",
     "text": [
      "CPU times: user 483 ms, sys: 3 ms, total: 486 ms\n",
      "Wall time: 489 ms\n"
     ]
    }
   ],
   "source": [
    "%%time\n",
    "fEV = vphe.fvecEnc(p, V)"
   ]
  },
  {
   "cell_type": "code",
   "execution_count": 12,
   "metadata": {},
   "outputs": [
    {
     "name": "stdout",
     "output_type": "stream",
     "text": [
      "CPU times: user 17 s, sys: 25 ms, total: 17 s\n",
      "Wall time: 17.4 s\n"
     ]
    }
   ],
   "source": [
    "%%time\n",
    "Vd = vphe.vecDec(s, EV)"
   ]
  },
  {
   "cell_type": "code",
   "execution_count": 13,
   "metadata": {},
   "outputs": [
    {
     "ename": "TypeError",
     "evalue": "not enough arguments: expected 3, got 1",
     "output_type": "error",
     "traceback": [
      "\u001b[0;31m---------------------------------------------------------------------------\u001b[0m",
      "\u001b[0;31mTypeError\u001b[0m                                 Traceback (most recent call last)",
      "\u001b[0;32m<timed exec>\u001b[0m in \u001b[0;36m<module>\u001b[0;34m()\u001b[0m\n",
      "\u001b[0;32m~/Code/genomics-phe/gphe/vecphe.py\u001b[0m in \u001b[0;36mfvecDec\u001b[0;34m(prv, EV, base, block)\u001b[0m\n\u001b[1;32m     42\u001b[0m     \u001b[0mV\u001b[0m \u001b[0;34m=\u001b[0m \u001b[0;34m[\u001b[0m\u001b[0;34m]\u001b[0m\u001b[0;34m\u001b[0m\u001b[0m\n\u001b[1;32m     43\u001b[0m     \u001b[0;32mfor\u001b[0m \u001b[0mEV\u001b[0m \u001b[0;32min\u001b[0m \u001b[0mEVs\u001b[0m\u001b[0;34m:\u001b[0m\u001b[0;34m\u001b[0m\u001b[0m\n\u001b[0;32m---> 44\u001b[0;31m         \u001b[0mV\u001b[0m\u001b[0;34m.\u001b[0m\u001b[0mextend\u001b[0m\u001b[0;34m(\u001b[0m\u001b[0m_frombase\u001b[0m\u001b[0;34m(\u001b[0m\u001b[0mEV\u001b[0m\u001b[0;34m)\u001b[0m\u001b[0;34m)\u001b[0m\u001b[0;34m\u001b[0m\u001b[0m\n\u001b[0m\u001b[1;32m     45\u001b[0m     \u001b[0;32mreturn\u001b[0m \u001b[0mV\u001b[0m\u001b[0;34m\u001b[0m\u001b[0m\n\u001b[1;32m     46\u001b[0m \u001b[0;34m\u001b[0m\u001b[0m\n",
      "\u001b[0;31mTypeError\u001b[0m: not enough arguments: expected 3, got 1"
     ]
    }
   ],
   "source": [
    "%%time\n",
    "fVd = vphe.fvecDec(s, fEV)"
   ]
  },
  {
   "cell_type": "code",
   "execution_count": 14,
   "metadata": {},
   "outputs": [
    {
     "ename": "NameError",
     "evalue": "name 'fVd' is not defined",
     "output_type": "error",
     "traceback": [
      "\u001b[0;31m---------------------------------------------------------------------------\u001b[0m",
      "\u001b[0;31mNameError\u001b[0m                                 Traceback (most recent call last)",
      "\u001b[0;32m<ipython-input-14-45d11a9fd13c>\u001b[0m in \u001b[0;36m<module>\u001b[0;34m()\u001b[0m\n\u001b[0;32m----> 1\u001b[0;31m \u001b[0;32mfor\u001b[0m \u001b[0mi\u001b[0m\u001b[0;34m,\u001b[0m \u001b[0mt\u001b[0m \u001b[0;32min\u001b[0m \u001b[0menumerate\u001b[0m\u001b[0;34m(\u001b[0m\u001b[0mzip\u001b[0m\u001b[0;34m(\u001b[0m\u001b[0mVd\u001b[0m\u001b[0;34m,\u001b[0m \u001b[0mfVd\u001b[0m\u001b[0;34m)\u001b[0m\u001b[0;34m)\u001b[0m\u001b[0;34m:\u001b[0m\u001b[0;34m\u001b[0m\u001b[0m\n\u001b[0m\u001b[1;32m      2\u001b[0m     \u001b[0mv\u001b[0m\u001b[0;34m,\u001b[0m \u001b[0mfv\u001b[0m \u001b[0;34m=\u001b[0m \u001b[0mt\u001b[0m\u001b[0;34m\u001b[0m\u001b[0m\n\u001b[1;32m      3\u001b[0m     \u001b[0;32massert\u001b[0m \u001b[0mv\u001b[0m \u001b[0;34m==\u001b[0m \u001b[0mfv\u001b[0m\u001b[0;34m\u001b[0m\u001b[0m\n",
      "\u001b[0;31mNameError\u001b[0m: name 'fVd' is not defined"
     ]
    }
   ],
   "source": [
    "for i, t in enumerate(zip(Vd, fVd)):\n",
    "    v, fv = t\n",
    "    assert v == fv"
   ]
  },
  {
   "cell_type": "code",
   "execution_count": null,
   "metadata": {},
   "outputs": [],
   "source": [
    "import time\n",
    "twos = [2**i for i in range(1, 8)]\n",
    "for base in twos:\n",
    "    for block in twos:\n",
    "        start = time.time()\n",
    "        vphe.fvecEnc(p, V, base=base, block=block)\n",
    "        end = time.time()\n",
    "        print(base, block, end - start)"
   ]
  },
  {
   "cell_type": "code",
   "execution_count": null,
   "metadata": {},
   "outputs": [],
   "source": []
  },
  {
   "cell_type": "code",
   "execution_count": null,
   "metadata": {},
   "outputs": [],
   "source": []
  }
 ],
 "metadata": {
  "celltoolbar": "Raw Cell Format",
  "kernelspec": {
   "display_name": "Python 3",
   "language": "python",
   "name": "python3"
  },
  "language_info": {
   "codemirror_mode": {
    "name": "ipython",
    "version": 3
   },
   "file_extension": ".py",
   "mimetype": "text/x-python",
   "name": "python",
   "nbconvert_exporter": "python",
   "pygments_lexer": "ipython3",
   "version": "3.5.2"
  }
 },
 "nbformat": 4,
 "nbformat_minor": 2
}
